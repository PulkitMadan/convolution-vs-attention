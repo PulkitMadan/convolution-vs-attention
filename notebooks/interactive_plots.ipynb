{
 "cells": [
  {
   "cell_type": "code",
   "execution_count": 168,
   "metadata": {
    "pycharm": {
     "name": "#%%\n"
    }
   },
   "outputs": [
    {
     "name": "stdout",
     "output_type": "stream",
     "text": [
      "The autoreload extension is already loaded. To reload it, use:\n",
      "  %reload_ext autoreload\n"
     ]
    },
    {
     "data": {
      "text/plain": [
       "<matplotlib.pyplot._IonContext at 0x2447902f8e0>"
      ]
     },
     "execution_count": 168,
     "metadata": {},
     "output_type": "execute_result"
    }
   ],
   "source": [
    "%matplotlib inline\n",
    "%load_ext autoreload\n",
    "%autoreload 2\n",
    "\n",
    "import datetime\n",
    "import numpy as np\n",
    "import pandas as pd\n",
    "import os\n",
    "\n",
    "import plotly.graph_objects as go\n",
    "import plotly.express as px\n",
    "\n",
    "from ipywidgets import widgets\n",
    "from ipywidgets import interact, interactive, fixed, interact_manual\n",
    "\n",
    "from IPython.display import display\n",
    "\n",
    "from matplotlib import pyplot as plt\n",
    "%matplotlib inline\n",
    "\n",
    "plt.ion()   # interactive mode"
   ]
  },
  {
   "cell_type": "code",
   "execution_count": 169,
   "metadata": {
    "pycharm": {
     "name": "#%%\n"
    }
   },
   "outputs": [
    {
     "data": {
      "text/html": [
       "<div>\n",
       "<style scoped>\n",
       "    .dataframe tbody tr th:only-of-type {\n",
       "        vertical-align: middle;\n",
       "    }\n",
       "\n",
       "    .dataframe tbody tr th {\n",
       "        vertical-align: top;\n",
       "    }\n",
       "\n",
       "    .dataframe thead th {\n",
       "        text-align: right;\n",
       "    }\n",
       "</style>\n",
       "<table border=\"1\" class=\"dataframe\">\n",
       "  <thead>\n",
       "    <tr style=\"text-align: right;\">\n",
       "      <th></th>\n",
       "      <th>Models</th>\n",
       "      <th>classes</th>\n",
       "      <th>shape_bias</th>\n",
       "    </tr>\n",
       "  </thead>\n",
       "  <tbody>\n",
       "    <tr>\n",
       "      <th>41</th>\n",
       "      <td>resnet pretrained frozen OOD</td>\n",
       "      <td>elephant</td>\n",
       "      <td>1.00000</td>\n",
       "    </tr>\n",
       "    <tr>\n",
       "      <th>17</th>\n",
       "      <td>resnet pretrained unfrozen OOD</td>\n",
       "      <td>dog</td>\n",
       "      <td>0.96535</td>\n",
       "    </tr>\n",
       "    <tr>\n",
       "      <th>150</th>\n",
       "      <td>vit-b32 pretrained frozen OOD</td>\n",
       "      <td>truck</td>\n",
       "      <td>0.98722</td>\n",
       "    </tr>\n",
       "  </tbody>\n",
       "</table>\n",
       "</div>"
      ],
      "text/plain": [
       "                             Models   classes  shape_bias\n",
       "41     resnet pretrained frozen OOD  elephant     1.00000\n",
       "17   resnet pretrained unfrozen OOD       dog     0.96535\n",
       "150   vit-b32 pretrained frozen OOD     truck     0.98722"
      ]
     },
     "execution_count": 169,
     "metadata": {},
     "output_type": "execute_result"
    }
   ],
   "source": [
    "if os.name == 'nt': #windows\n",
    "    data_dir = os.path.abspath(f'./shapebias.csv')\n",
    "else: #linux\n",
    "    home_path = os.path.expanduser('~')\n",
    "    data_dir = f'{home_path}/scratch/code-snapshots/convolution-vs-attention/results.csv'\n",
    "\n",
    "df_test = pd.read_csv(data_dir)\n",
    "\n",
    "# Drop the column 0 from the DataFrame as it is a suplicate copy of index\n",
    "# df = df.drop(df.columns[[0]], axis=1)\n",
    "\n",
    "# Take a peek at 3 different tuples in the table\n",
    "df_test.sample(3)"
   ]
  },
  {
   "cell_type": "code",
   "execution_count": 170,
   "metadata": {
    "pycharm": {
     "name": "#%%\n"
    }
   },
   "outputs": [
    {
     "data": {
      "application/vnd.plotly.v1+json": {
       "config": {
        "plotlyServerURL": "https://plot.ly"
       },
       "data": [
        {
         "hovertemplate": "Models=resnet pretrained unfrozen non OOD<br>shape_bias=%{x}<br>classes=%{y}<extra></extra>",
         "legendgroup": "resnet pretrained unfrozen non OOD",
         "marker": {
          "color": "#636efa",
          "size": 5,
          "symbol": "circle"
         },
         "mode": "markers",
         "name": "resnet pretrained unfrozen non OOD",
         "orientation": "h",
         "showlegend": true,
         "type": "scatter",
         "x": [
          0.98219,
          0.96979,
          1,
          1,
          0.98842,
          1,
          0.99394,
          0.99552,
          0.97414,
          1,
          1,
          1,
          1,
          1,
          1,
          1
         ],
         "xaxis": "x",
         "y": [
          "bird",
          "dog",
          "chair",
          "bear",
          "bottle",
          "cat",
          "truck",
          "boat",
          "clock",
          "elephant",
          "airplane",
          "car",
          "bicycle",
          "knife",
          "keyboard",
          "oven"
         ],
         "yaxis": "y"
        },
        {
         "hovertemplate": "Models=resnet pretrained unfrozen OOD<br>shape_bias=%{x}<br>classes=%{y}<extra></extra>",
         "legendgroup": "resnet pretrained unfrozen OOD",
         "marker": {
          "color": "#EF553B",
          "size": 5,
          "symbol": "diamond"
         },
         "mode": "markers",
         "name": "resnet pretrained unfrozen OOD",
         "orientation": "h",
         "showlegend": true,
         "type": "scatter",
         "x": [
          0.976,
          0.96535,
          0.99333,
          0.97368,
          0.99585,
          0.99156,
          0.99359,
          0.9907,
          0.98095,
          1,
          1,
          0.99074,
          1,
          1,
          0.9881,
          1
         ],
         "xaxis": "x",
         "y": [
          "bird",
          "dog",
          "chair",
          "bear",
          "bottle",
          "cat",
          "truck",
          "boat",
          "clock",
          "elephant",
          "airplane",
          "car",
          "bicycle",
          "knife",
          "keyboard",
          "oven"
         ],
         "yaxis": "y"
        },
        {
         "hovertemplate": "Models=resnet pretrained frozen OOD<br>shape_bias=%{x}<br>classes=%{y}<extra></extra>",
         "legendgroup": "resnet pretrained frozen OOD",
         "marker": {
          "color": "#00cc96",
          "size": 5,
          "symbol": "square"
         },
         "mode": "markers",
         "name": "resnet pretrained frozen OOD",
         "orientation": "h",
         "showlegend": true,
         "type": "scatter",
         "x": [
          0.92316,
          0.90497,
          0.98319,
          0.984,
          0.97683,
          0.97309,
          0.98932,
          0.95313,
          0.97297,
          1,
          1,
          1,
          1,
          1,
          0.9878,
          1
         ],
         "xaxis": "x",
         "y": [
          "bird",
          "dog",
          "chair",
          "bear",
          "bottle",
          "cat",
          "truck",
          "boat",
          "clock",
          "elephant",
          "airplane",
          "car",
          "bicycle",
          "knife",
          "keyboard",
          "oven"
         ],
         "yaxis": "y"
        },
        {
         "hovertemplate": "Models=resnet pretrained<br>shape_bias=%{x}<br>classes=%{y}<extra></extra>",
         "legendgroup": "resnet pretrained",
         "marker": {
          "color": "#ab63fa",
          "size": 5,
          "symbol": "x"
         },
         "mode": "markers",
         "name": "resnet pretrained",
         "orientation": "h",
         "showlegend": true,
         "type": "scatter",
         "x": [
          0.54846,
          0.52391,
          null,
          null,
          0,
          null,
          1,
          null,
          0.48,
          null,
          null,
          null,
          null,
          null,
          null,
          null
         ],
         "xaxis": "x",
         "y": [
          "bird",
          "dog",
          "chair",
          "bear",
          "bottle",
          "cat",
          "truck",
          "boat",
          "clock",
          "elephant",
          "airplane",
          "car",
          "bicycle",
          "knife",
          "keyboard",
          "oven"
         ],
         "yaxis": "y"
        },
        {
         "hovertemplate": "Models=convnext pretrained<br>shape_bias=%{x}<br>classes=%{y}<extra></extra>",
         "legendgroup": "convnext pretrained",
         "marker": {
          "color": "#FFA15A",
          "size": 5,
          "symbol": "cross"
         },
         "mode": "markers",
         "name": "convnext pretrained",
         "orientation": "h",
         "showlegend": true,
         "type": "scatter",
         "x": [
          0.44053,
          0.504,
          0.66667,
          0.42857,
          0.47826,
          0.25,
          0.57576,
          0.57143,
          0.66667,
          1,
          1,
          0.6,
          null,
          null,
          null,
          null
         ],
         "xaxis": "x",
         "y": [
          "bird",
          "dog",
          "chair",
          "bear",
          "bottle",
          "cat",
          "truck",
          "boat",
          "clock",
          "elephant",
          "airplane",
          "car",
          "bicycle",
          "knife",
          "keyboard",
          "oven"
         ],
         "yaxis": "y"
        },
        {
         "hovertemplate": "Models=convnext pretrained frozen OOD<br>shape_bias=%{x}<br>classes=%{y}<extra></extra>",
         "legendgroup": "convnext pretrained frozen OOD",
         "marker": {
          "color": "#19d3f3",
          "size": 5,
          "symbol": "circle"
         },
         "mode": "markers",
         "name": "convnext pretrained frozen OOD",
         "orientation": "h",
         "showlegend": true,
         "type": "scatter",
         "x": [
          0.95167,
          0.9588,
          0.98742,
          1,
          0.97173,
          0.98099,
          0.9902,
          0.97585,
          1,
          0.98837,
          1,
          1,
          1,
          1,
          0.98864,
          1
         ],
         "xaxis": "x",
         "y": [
          "bird",
          "dog",
          "chair",
          "bear",
          "bottle",
          "cat",
          "truck",
          "boat",
          "clock",
          "elephant",
          "airplane",
          "car",
          "bicycle",
          "knife",
          "keyboard",
          "oven"
         ],
         "yaxis": "y"
        },
        {
         "hovertemplate": "Models=vit-b16 pretrained<br>shape_bias=%{x}<br>classes=%{y}<extra></extra>",
         "legendgroup": "vit-b16 pretrained",
         "marker": {
          "color": "#FF6692",
          "size": 5,
          "symbol": "diamond"
         },
         "mode": "markers",
         "name": "vit-b16 pretrained",
         "orientation": "h",
         "showlegend": true,
         "type": "scatter",
         "x": [
          0.55385,
          0.53122,
          0.54545,
          0.16667,
          0.625,
          0.66667,
          0.30769,
          0.41667,
          0.71429,
          null,
          1,
          0,
          1,
          null,
          0,
          null
         ],
         "xaxis": "x",
         "y": [
          "bird",
          "dog",
          "chair",
          "bear",
          "bottle",
          "cat",
          "truck",
          "boat",
          "clock",
          "elephant",
          "airplane",
          "car",
          "bicycle",
          "knife",
          "keyboard",
          "oven"
         ],
         "yaxis": "y"
        },
        {
         "hovertemplate": "Models=vit-b16 pretrained frozen OOD<br>shape_bias=%{x}<br>classes=%{y}<extra></extra>",
         "legendgroup": "vit-b16 pretrained frozen OOD",
         "marker": {
          "color": "#B6E880",
          "size": 5,
          "symbol": "square"
         },
         "mode": "markers",
         "name": "vit-b16 pretrained frozen OOD",
         "orientation": "h",
         "showlegend": true,
         "type": "scatter",
         "x": [
          0.98558,
          0.97021,
          1,
          1,
          0.99298,
          0.98828,
          0.99381,
          1,
          0.9845,
          1,
          1,
          1,
          1,
          1,
          1,
          1
         ],
         "xaxis": "x",
         "y": [
          "bird",
          "dog",
          "chair",
          "bear",
          "bottle",
          "cat",
          "truck",
          "boat",
          "clock",
          "elephant",
          "airplane",
          "car",
          "bicycle",
          "knife",
          "keyboard",
          "oven"
         ],
         "yaxis": "y"
        },
        {
         "hovertemplate": "Models=vit-b32 pretrained<br>shape_bias=%{x}<br>classes=%{y}<extra></extra>",
         "legendgroup": "vit-b32 pretrained",
         "marker": {
          "color": "#FF97FF",
          "size": 5,
          "symbol": "x"
         },
         "mode": "markers",
         "name": "vit-b32 pretrained",
         "orientation": "h",
         "showlegend": true,
         "type": "scatter",
         "x": [
          0.45567,
          0.49429,
          0.69231,
          0.69231,
          0.63636,
          0.57143,
          0.66667,
          0.35714,
          0,
          0,
          null,
          0,
          0,
          0.5,
          null,
          null
         ],
         "xaxis": "x",
         "y": [
          "bird",
          "dog",
          "chair",
          "bear",
          "bottle",
          "cat",
          "truck",
          "boat",
          "clock",
          "elephant",
          "airplane",
          "car",
          "bicycle",
          "knife",
          "keyboard",
          "oven"
         ],
         "yaxis": "y"
        },
        {
         "hovertemplate": "Models=vit-b32 pretrained frozen OOD<br>shape_bias=%{x}<br>classes=%{y}<extra></extra>",
         "legendgroup": "vit-b32 pretrained frozen OOD",
         "marker": {
          "color": "#FECB52",
          "size": 5,
          "symbol": "cross"
         },
         "mode": "markers",
         "name": "vit-b32 pretrained frozen OOD",
         "orientation": "h",
         "showlegend": true,
         "type": "scatter",
         "x": [
          0.97133,
          0.94751,
          1,
          0.98675,
          0.98819,
          0.97727,
          0.98722,
          0.98131,
          0.97248,
          1,
          1,
          1,
          1,
          1,
          1,
          1
         ],
         "xaxis": "x",
         "y": [
          "bird",
          "dog",
          "chair",
          "bear",
          "bottle",
          "cat",
          "truck",
          "boat",
          "clock",
          "elephant",
          "airplane",
          "car",
          "bicycle",
          "knife",
          "keyboard",
          "oven"
         ],
         "yaxis": "y"
        },
        {
         "marker": {
          "color": "rgba(99, 110, 250,0.5)"
         },
         "mode": "lines",
         "name": "resnet pretrained frozen OOD avg",
         "showlegend": false,
         "type": "scatter",
         "x": [
          0.5,
          0.5
         ],
         "y": [
          "bird",
          "oven"
         ]
        },
        {
         "marker": {
          "color": "rgba(99, 110, 250,0.5)"
         },
         "mode": "lines",
         "name": "resnet pretrained frozen OOD avg",
         "showlegend": false,
         "type": "scatter",
         "x": [
          0.5,
          0.5
         ],
         "y": [
          "bird",
          "oven"
         ]
        }
       ],
       "layout": {
        "height": 660,
        "legend": {
         "bgcolor": "rgba(0,0,0,0)",
         "title": {
          "text": "Models"
         },
         "tracegroupgap": 0,
         "x": 0.03,
         "y": 1
        },
        "margin": {
         "t": 60
        },
        "template": {
         "data": {
          "bar": [
           {
            "error_x": {
             "color": "#2a3f5f"
            },
            "error_y": {
             "color": "#2a3f5f"
            },
            "marker": {
             "line": {
              "color": "#E5ECF6",
              "width": 0.5
             },
             "pattern": {
              "fillmode": "overlay",
              "size": 10,
              "solidity": 0.2
             }
            },
            "type": "bar"
           }
          ],
          "barpolar": [
           {
            "marker": {
             "line": {
              "color": "#E5ECF6",
              "width": 0.5
             },
             "pattern": {
              "fillmode": "overlay",
              "size": 10,
              "solidity": 0.2
             }
            },
            "type": "barpolar"
           }
          ],
          "carpet": [
           {
            "aaxis": {
             "endlinecolor": "#2a3f5f",
             "gridcolor": "white",
             "linecolor": "white",
             "minorgridcolor": "white",
             "startlinecolor": "#2a3f5f"
            },
            "baxis": {
             "endlinecolor": "#2a3f5f",
             "gridcolor": "white",
             "linecolor": "white",
             "minorgridcolor": "white",
             "startlinecolor": "#2a3f5f"
            },
            "type": "carpet"
           }
          ],
          "choropleth": [
           {
            "colorbar": {
             "outlinewidth": 0,
             "ticks": ""
            },
            "type": "choropleth"
           }
          ],
          "contour": [
           {
            "colorbar": {
             "outlinewidth": 0,
             "ticks": ""
            },
            "colorscale": [
             [
              0,
              "#0d0887"
             ],
             [
              0.1111111111111111,
              "#46039f"
             ],
             [
              0.2222222222222222,
              "#7201a8"
             ],
             [
              0.3333333333333333,
              "#9c179e"
             ],
             [
              0.4444444444444444,
              "#bd3786"
             ],
             [
              0.5555555555555556,
              "#d8576b"
             ],
             [
              0.6666666666666666,
              "#ed7953"
             ],
             [
              0.7777777777777778,
              "#fb9f3a"
             ],
             [
              0.8888888888888888,
              "#fdca26"
             ],
             [
              1,
              "#f0f921"
             ]
            ],
            "type": "contour"
           }
          ],
          "contourcarpet": [
           {
            "colorbar": {
             "outlinewidth": 0,
             "ticks": ""
            },
            "type": "contourcarpet"
           }
          ],
          "heatmap": [
           {
            "colorbar": {
             "outlinewidth": 0,
             "ticks": ""
            },
            "colorscale": [
             [
              0,
              "#0d0887"
             ],
             [
              0.1111111111111111,
              "#46039f"
             ],
             [
              0.2222222222222222,
              "#7201a8"
             ],
             [
              0.3333333333333333,
              "#9c179e"
             ],
             [
              0.4444444444444444,
              "#bd3786"
             ],
             [
              0.5555555555555556,
              "#d8576b"
             ],
             [
              0.6666666666666666,
              "#ed7953"
             ],
             [
              0.7777777777777778,
              "#fb9f3a"
             ],
             [
              0.8888888888888888,
              "#fdca26"
             ],
             [
              1,
              "#f0f921"
             ]
            ],
            "type": "heatmap"
           }
          ],
          "heatmapgl": [
           {
            "colorbar": {
             "outlinewidth": 0,
             "ticks": ""
            },
            "colorscale": [
             [
              0,
              "#0d0887"
             ],
             [
              0.1111111111111111,
              "#46039f"
             ],
             [
              0.2222222222222222,
              "#7201a8"
             ],
             [
              0.3333333333333333,
              "#9c179e"
             ],
             [
              0.4444444444444444,
              "#bd3786"
             ],
             [
              0.5555555555555556,
              "#d8576b"
             ],
             [
              0.6666666666666666,
              "#ed7953"
             ],
             [
              0.7777777777777778,
              "#fb9f3a"
             ],
             [
              0.8888888888888888,
              "#fdca26"
             ],
             [
              1,
              "#f0f921"
             ]
            ],
            "type": "heatmapgl"
           }
          ],
          "histogram": [
           {
            "marker": {
             "pattern": {
              "fillmode": "overlay",
              "size": 10,
              "solidity": 0.2
             }
            },
            "type": "histogram"
           }
          ],
          "histogram2d": [
           {
            "colorbar": {
             "outlinewidth": 0,
             "ticks": ""
            },
            "colorscale": [
             [
              0,
              "#0d0887"
             ],
             [
              0.1111111111111111,
              "#46039f"
             ],
             [
              0.2222222222222222,
              "#7201a8"
             ],
             [
              0.3333333333333333,
              "#9c179e"
             ],
             [
              0.4444444444444444,
              "#bd3786"
             ],
             [
              0.5555555555555556,
              "#d8576b"
             ],
             [
              0.6666666666666666,
              "#ed7953"
             ],
             [
              0.7777777777777778,
              "#fb9f3a"
             ],
             [
              0.8888888888888888,
              "#fdca26"
             ],
             [
              1,
              "#f0f921"
             ]
            ],
            "type": "histogram2d"
           }
          ],
          "histogram2dcontour": [
           {
            "colorbar": {
             "outlinewidth": 0,
             "ticks": ""
            },
            "colorscale": [
             [
              0,
              "#0d0887"
             ],
             [
              0.1111111111111111,
              "#46039f"
             ],
             [
              0.2222222222222222,
              "#7201a8"
             ],
             [
              0.3333333333333333,
              "#9c179e"
             ],
             [
              0.4444444444444444,
              "#bd3786"
             ],
             [
              0.5555555555555556,
              "#d8576b"
             ],
             [
              0.6666666666666666,
              "#ed7953"
             ],
             [
              0.7777777777777778,
              "#fb9f3a"
             ],
             [
              0.8888888888888888,
              "#fdca26"
             ],
             [
              1,
              "#f0f921"
             ]
            ],
            "type": "histogram2dcontour"
           }
          ],
          "mesh3d": [
           {
            "colorbar": {
             "outlinewidth": 0,
             "ticks": ""
            },
            "type": "mesh3d"
           }
          ],
          "parcoords": [
           {
            "line": {
             "colorbar": {
              "outlinewidth": 0,
              "ticks": ""
             }
            },
            "type": "parcoords"
           }
          ],
          "pie": [
           {
            "automargin": true,
            "type": "pie"
           }
          ],
          "scatter": [
           {
            "marker": {
             "colorbar": {
              "outlinewidth": 0,
              "ticks": ""
             }
            },
            "type": "scatter"
           }
          ],
          "scatter3d": [
           {
            "line": {
             "colorbar": {
              "outlinewidth": 0,
              "ticks": ""
             }
            },
            "marker": {
             "colorbar": {
              "outlinewidth": 0,
              "ticks": ""
             }
            },
            "type": "scatter3d"
           }
          ],
          "scattercarpet": [
           {
            "marker": {
             "colorbar": {
              "outlinewidth": 0,
              "ticks": ""
             }
            },
            "type": "scattercarpet"
           }
          ],
          "scattergeo": [
           {
            "marker": {
             "colorbar": {
              "outlinewidth": 0,
              "ticks": ""
             }
            },
            "type": "scattergeo"
           }
          ],
          "scattergl": [
           {
            "marker": {
             "colorbar": {
              "outlinewidth": 0,
              "ticks": ""
             }
            },
            "type": "scattergl"
           }
          ],
          "scattermapbox": [
           {
            "marker": {
             "colorbar": {
              "outlinewidth": 0,
              "ticks": ""
             }
            },
            "type": "scattermapbox"
           }
          ],
          "scatterpolar": [
           {
            "marker": {
             "colorbar": {
              "outlinewidth": 0,
              "ticks": ""
             }
            },
            "type": "scatterpolar"
           }
          ],
          "scatterpolargl": [
           {
            "marker": {
             "colorbar": {
              "outlinewidth": 0,
              "ticks": ""
             }
            },
            "type": "scatterpolargl"
           }
          ],
          "scatterternary": [
           {
            "marker": {
             "colorbar": {
              "outlinewidth": 0,
              "ticks": ""
             }
            },
            "type": "scatterternary"
           }
          ],
          "surface": [
           {
            "colorbar": {
             "outlinewidth": 0,
             "ticks": ""
            },
            "colorscale": [
             [
              0,
              "#0d0887"
             ],
             [
              0.1111111111111111,
              "#46039f"
             ],
             [
              0.2222222222222222,
              "#7201a8"
             ],
             [
              0.3333333333333333,
              "#9c179e"
             ],
             [
              0.4444444444444444,
              "#bd3786"
             ],
             [
              0.5555555555555556,
              "#d8576b"
             ],
             [
              0.6666666666666666,
              "#ed7953"
             ],
             [
              0.7777777777777778,
              "#fb9f3a"
             ],
             [
              0.8888888888888888,
              "#fdca26"
             ],
             [
              1,
              "#f0f921"
             ]
            ],
            "type": "surface"
           }
          ],
          "table": [
           {
            "cells": {
             "fill": {
              "color": "#EBF0F8"
             },
             "line": {
              "color": "white"
             }
            },
            "header": {
             "fill": {
              "color": "#C8D4E3"
             },
             "line": {
              "color": "white"
             }
            },
            "type": "table"
           }
          ]
         },
         "layout": {
          "annotationdefaults": {
           "arrowcolor": "#2a3f5f",
           "arrowhead": 0,
           "arrowwidth": 1
          },
          "autotypenumbers": "strict",
          "coloraxis": {
           "colorbar": {
            "outlinewidth": 0,
            "ticks": ""
           }
          },
          "colorscale": {
           "diverging": [
            [
             0,
             "#8e0152"
            ],
            [
             0.1,
             "#c51b7d"
            ],
            [
             0.2,
             "#de77ae"
            ],
            [
             0.3,
             "#f1b6da"
            ],
            [
             0.4,
             "#fde0ef"
            ],
            [
             0.5,
             "#f7f7f7"
            ],
            [
             0.6,
             "#e6f5d0"
            ],
            [
             0.7,
             "#b8e186"
            ],
            [
             0.8,
             "#7fbc41"
            ],
            [
             0.9,
             "#4d9221"
            ],
            [
             1,
             "#276419"
            ]
           ],
           "sequential": [
            [
             0,
             "#0d0887"
            ],
            [
             0.1111111111111111,
             "#46039f"
            ],
            [
             0.2222222222222222,
             "#7201a8"
            ],
            [
             0.3333333333333333,
             "#9c179e"
            ],
            [
             0.4444444444444444,
             "#bd3786"
            ],
            [
             0.5555555555555556,
             "#d8576b"
            ],
            [
             0.6666666666666666,
             "#ed7953"
            ],
            [
             0.7777777777777778,
             "#fb9f3a"
            ],
            [
             0.8888888888888888,
             "#fdca26"
            ],
            [
             1,
             "#f0f921"
            ]
           ],
           "sequentialminus": [
            [
             0,
             "#0d0887"
            ],
            [
             0.1111111111111111,
             "#46039f"
            ],
            [
             0.2222222222222222,
             "#7201a8"
            ],
            [
             0.3333333333333333,
             "#9c179e"
            ],
            [
             0.4444444444444444,
             "#bd3786"
            ],
            [
             0.5555555555555556,
             "#d8576b"
            ],
            [
             0.6666666666666666,
             "#ed7953"
            ],
            [
             0.7777777777777778,
             "#fb9f3a"
            ],
            [
             0.8888888888888888,
             "#fdca26"
            ],
            [
             1,
             "#f0f921"
            ]
           ]
          },
          "colorway": [
           "#636efa",
           "#EF553B",
           "#00cc96",
           "#ab63fa",
           "#FFA15A",
           "#19d3f3",
           "#FF6692",
           "#B6E880",
           "#FF97FF",
           "#FECB52"
          ],
          "font": {
           "color": "#2a3f5f"
          },
          "geo": {
           "bgcolor": "white",
           "lakecolor": "white",
           "landcolor": "#E5ECF6",
           "showlakes": true,
           "showland": true,
           "subunitcolor": "white"
          },
          "hoverlabel": {
           "align": "left"
          },
          "hovermode": "closest",
          "mapbox": {
           "style": "light"
          },
          "paper_bgcolor": "white",
          "plot_bgcolor": "#E5ECF6",
          "polar": {
           "angularaxis": {
            "gridcolor": "white",
            "linecolor": "white",
            "ticks": ""
           },
           "bgcolor": "#E5ECF6",
           "radialaxis": {
            "gridcolor": "white",
            "linecolor": "white",
            "ticks": ""
           }
          },
          "scene": {
           "xaxis": {
            "backgroundcolor": "#E5ECF6",
            "gridcolor": "white",
            "gridwidth": 2,
            "linecolor": "white",
            "showbackground": true,
            "ticks": "",
            "zerolinecolor": "white"
           },
           "yaxis": {
            "backgroundcolor": "#E5ECF6",
            "gridcolor": "white",
            "gridwidth": 2,
            "linecolor": "white",
            "showbackground": true,
            "ticks": "",
            "zerolinecolor": "white"
           },
           "zaxis": {
            "backgroundcolor": "#E5ECF6",
            "gridcolor": "white",
            "gridwidth": 2,
            "linecolor": "white",
            "showbackground": true,
            "ticks": "",
            "zerolinecolor": "white"
           }
          },
          "shapedefaults": {
           "line": {
            "color": "#2a3f5f"
           }
          },
          "ternary": {
           "aaxis": {
            "gridcolor": "white",
            "linecolor": "white",
            "ticks": ""
           },
           "baxis": {
            "gridcolor": "white",
            "linecolor": "white",
            "ticks": ""
           },
           "bgcolor": "#E5ECF6",
           "caxis": {
            "gridcolor": "white",
            "linecolor": "white",
            "ticks": ""
           }
          },
          "title": {
           "x": 0.05
          },
          "xaxis": {
           "automargin": true,
           "gridcolor": "white",
           "linecolor": "white",
           "ticks": "",
           "title": {
            "standoff": 15
           },
           "zerolinecolor": "white",
           "zerolinewidth": 2
          },
          "yaxis": {
           "automargin": true,
           "gridcolor": "white",
           "linecolor": "white",
           "ticks": "",
           "title": {
            "standoff": 15
           },
           "zerolinecolor": "white",
           "zerolinewidth": 2
          }
         }
        },
        "title": {
         "text": "Shape Bias",
         "x": 0.5,
         "xanchor": "center",
         "y": 0.96,
         "yanchor": "top"
        },
        "width": 600,
        "xaxis": {
         "anchor": "y",
         "domain": [
          0,
          1
         ],
         "dtick": 0.1,
         "tick0": 0,
         "tickmode": "linear",
         "title": {
          "text": "Shape Bias"
         }
        },
        "xaxis2": {
         "anchor": "free",
         "overlaying": "x",
         "position": 0.5,
         "range": [
          32,
          212
         ],
         "side": "top",
         "spikemode": "across",
         "spikesnap": "cursor",
         "tickmode": "array",
         "tickvals": [
          1,
          0.9,
          0.8,
          0.7,
          0.6,
          0.5,
          0.3999999999999999,
          0.29999999999999993,
          0.19999999999999996,
          0.09999999999999998,
          0
         ],
         "title": {
          "text": "Fahrenheit"
         }
        },
        "yaxis": {
         "anchor": "x",
         "domain": [
          0,
          1
         ],
         "title": {
          "text": "16 Classes"
         }
        }
       }
      }
     },
     "metadata": {},
     "output_type": "display_data"
    }
   ],
   "source": [
    "fig = px.scatter(df_test, y=\"classes\", x=\"shape_bias\", \n",
    "                color=\"Models\", symbol=\"Models\")\n",
    "fig.update_traces(marker_size=5)\n",
    "\n",
    "\n",
    "fig.add_trace(go.Scatter(x=[0.5, 0.5],y=['bird','oven'],\n",
    "            mode=\"lines\", name='resnet pretrained frozen OOD avg',\n",
    "            marker_color = 'rgba(99, 110, 250,0.5)',\n",
    "            showlegend=False))\n",
    "            \n",
    "\n",
    "fig.add_trace(go.Scatter(x=[0.5, 0.5],y=['bird','oven'],\n",
    "            mode=\"lines\", name='resnet pretrained frozen OOD avg',\n",
    "            marker_color = 'rgba(99, 110, 250,0.5)',\n",
    "            showlegend=False))\n",
    "\n",
    "\n",
    "fig.update_layout(\n",
    "    title={\n",
    "        'text': \"Shape Bias\",\n",
    "        'y':0.96,\n",
    "        'x':0.5,\n",
    "        'xanchor': 'center',\n",
    "        'yanchor': 'top'},\n",
    "    legend={\n",
    "        'x':0.03,\n",
    "        'y':1,\n",
    "        'bgcolor':'rgba(0,0,0,0)'\n",
    "\n",
    "    },\n",
    "    yaxis_title=\"16 Classes\",\n",
    "    height = 660,\n",
    "    width = 600,\n",
    "    #grid_domain_x=[0,1]\n",
    "    xaxis = dict(\n",
    "        tickmode = 'linear',\n",
    "        tick0 = 0,\n",
    "        dtick = 0.1,\n",
    "        title = \"Shape Bias\"\n",
    "        #tickformat = '%'\n",
    "    ),\n",
    "    xaxis2 = dict(\n",
    "        position = 0.5, \n",
    "        title='Fahrenheit',\n",
    "        anchor='free', \n",
    "        overlaying='x', \n",
    "        side='top', \n",
    "        tickmode='array', \n",
    "        tickvals=np.linspace(1,0,11), \n",
    "        range=[32,212], \n",
    "        spikemode='across', \n",
    "        spikesnap='cursor' \n",
    "        ) \n",
    "    )\n",
    "\n",
    "fig.show()"
   ]
  },
  {
   "cell_type": "code",
   "execution_count": 173,
   "metadata": {
    "pycharm": {
     "name": "#%%\n"
    }
   },
   "outputs": [
    {
     "name": "stdout",
     "output_type": "stream",
     "text": [
      "['resnet pretrained unfrozen non OOD' 'resnet pretrained unfrozen OOD'\n",
      " 'resnet pretrained frozen OOD' 'resnet pretrained' 'convnext pretrained'\n",
      " 'convnext pretrained frozen OOD' 'vit-b16 pretrained'\n",
      " 'vit-b16 pretrained frozen OOD' 'vit-b32 pretrained'\n",
      " 'vit-b32 pretrained frozen OOD']\n"
     ]
    },
    {
     "data": {
      "text/plain": [
       "10"
      ]
     },
     "execution_count": 173,
     "metadata": {},
     "output_type": "execute_result"
    }
   ],
   "source": [
    "print(df_test['Models'].unique())\n",
    "len(df_test['Models'].unique())"
   ]
  },
  {
   "cell_type": "code",
   "execution_count": 176,
   "metadata": {
    "pycharm": {
     "name": "#%%\n"
    }
   },
   "outputs": [],
   "source": [
    "df_resnet_punOOD = df_test.loc[df_test['Models'] == df_test['Models'].unique()[0]]\n",
    "df_resnet_puOOD = df_test.loc[df_test['Models'] == df_test['Models'].unique()[1]]\n",
    "df_resnet_pfOOD = df_test.loc[df_test['Models'] == df_test['Models'].unique()[2]]\n",
    "df_resnet_p = df_test.loc[df_test['Models'] == df_test['Models'].unique()[3]]\n",
    "\n",
    "df_convnext_p = df_test.loc[df_test['Models'] == df_test['Models'].unique()[4]]\n",
    "df_convnext_pfOOD = df_test.loc[df_test['Models'] == df_test['Models'].unique()[5]]\n",
    "\n",
    "df_vitb16_p = df_test.loc[df_test['Models'] == df_test['Models'].unique()[6]]\n",
    "df_vitb16_pfOOD = df_test.loc[df_test['Models'] == df_test['Models'].unique()[7]]\n",
    "\n",
    "df_vitb32_p = df_test.loc[df_test['Models'] == df_test['Models'].unique()[8]]\n",
    "df_vitb32_pfOOD = df_test.loc[df_test['Models'] == df_test['Models'].unique()[9]]\n"
   ]
  },
  {
   "cell_type": "code",
   "execution_count": 219,
   "metadata": {
    "pycharm": {
     "name": "#%%\n"
    }
   },
   "outputs": [
    {
     "data": {
      "application/vnd.plotly.v1+json": {
       "config": {
        "plotlyServerURL": "https://plot.ly"
       },
       "data": [
        {
         "marker": {
          "color": "rgb(100, 143, 255)",
          "opacity": 0.9,
          "size": 8,
          "symbol": "circle"
         },
         "mode": "markers",
         "name": "resnet pretrained unfrozen non OOD",
         "showlegend": true,
         "type": "scatter",
         "visible": true,
         "x": [
          0.98219,
          0.96979,
          1,
          1,
          0.98842,
          1,
          0.99394,
          0.99552,
          0.97414,
          1,
          1,
          1,
          1,
          1,
          1,
          1
         ],
         "y": [
          "bird",
          "dog",
          "chair",
          "bear",
          "bottle",
          "cat",
          "truck",
          "boat",
          "clock",
          "elephant",
          "airplane",
          "car",
          "bicycle",
          "knife",
          "keyboard",
          "oven"
         ]
        },
        {
         "marker": {
          "color": "rgba(100, 143, 255,0.2)"
         },
         "mode": "lines",
         "showlegend": false,
         "type": "scatter",
         "visible": true,
         "x": [
          0.98121,
          0.98121
         ],
         "y": [
          "bird",
          "oven"
         ]
        },
        {
         "marker": {
          "color": "rgb(120, 94, 240)",
          "opacity": 0.9,
          "size": 8,
          "symbol": "square"
         },
         "mode": "markers",
         "name": "resnet pretrained unfrozen OOD",
         "showlegend": true,
         "type": "scatter",
         "visible": true,
         "x": [
          0.976,
          0.96535,
          0.99333,
          0.97368,
          0.99585,
          0.99156,
          0.99359,
          0.9907,
          0.98095,
          1,
          1,
          0.99074,
          1,
          1,
          0.9881,
          1
         ],
         "y": [
          "bird",
          "dog",
          "chair",
          "bear",
          "bottle",
          "cat",
          "truck",
          "boat",
          "clock",
          "elephant",
          "airplane",
          "car",
          "bicycle",
          "knife",
          "keyboard",
          "oven"
         ]
        },
        {
         "marker": {
          "color": "rgba(120, 94, 240,0.2)"
         },
         "mode": "lines",
         "showlegend": false,
         "type": "scatter",
         "visible": true,
         "x": [
          0.97624,
          0.97624
         ],
         "y": [
          "bird",
          "oven"
         ]
        },
        {
         "marker": {
          "color": "rgb(220, 38, 127)",
          "opacity": 0.9,
          "size": 8,
          "symbol": "diamond"
         },
         "mode": "markers",
         "name": "resnet pretrained frozen OOD",
         "showlegend": true,
         "type": "scatter",
         "visible": true,
         "x": [
          0.92316,
          0.90497,
          0.98319,
          0.984,
          0.97683,
          0.97309,
          0.98932,
          0.95313,
          0.97297,
          1,
          1,
          1,
          1,
          1,
          0.9878,
          1
         ],
         "y": [
          "bird",
          "dog",
          "chair",
          "bear",
          "bottle",
          "cat",
          "truck",
          "boat",
          "clock",
          "elephant",
          "airplane",
          "car",
          "bicycle",
          "knife",
          "keyboard",
          "oven"
         ]
        },
        {
         "marker": {
          "color": "rgba(220, 38, 127,0.2)"
         },
         "mode": "lines",
         "showlegend": false,
         "type": "scatter",
         "visible": true,
         "x": [
          0.93232,
          0.93232
         ],
         "y": [
          "bird",
          "oven"
         ]
        },
        {
         "marker": {
          "color": "rgb(254, 97, 0)",
          "opacity": 0.9,
          "size": 8,
          "symbol": "x"
         },
         "mode": "markers",
         "name": "resnet pretrained",
         "showlegend": true,
         "type": "scatter",
         "visible": true,
         "x": [
          0.54846,
          0.52391,
          null,
          null,
          0,
          null,
          1,
          null,
          0.48,
          null,
          null,
          null,
          null,
          null,
          null,
          null
         ],
         "y": [
          "bird",
          "dog",
          "chair",
          "bear",
          "bottle",
          "cat",
          "truck",
          "boat",
          "clock",
          "elephant",
          "airplane",
          "car",
          "bicycle",
          "knife",
          "keyboard",
          "oven"
         ]
        },
        {
         "marker": {
          "color": "rgba(254, 97, 0,0.2)"
         },
         "mode": "lines",
         "showlegend": false,
         "type": "scatter",
         "visible": true,
         "x": [
          0.53495,
          0.53495
         ],
         "y": [
          "bird",
          "oven"
         ]
        },
        {
         "marker": {
          "color": "rgb(100, 143, 255)",
          "opacity": 0.9,
          "size": 8,
          "symbol": "circle"
         },
         "mode": "markers",
         "name": "convnext pretrained",
         "showlegend": true,
         "type": "scatter",
         "visible": false,
         "x": [
          0.44053,
          0.504,
          0.66667,
          0.42857,
          0.47826,
          0.25,
          0.57576,
          0.57143,
          0.66667,
          1,
          1,
          0.6,
          null,
          null,
          null,
          null
         ],
         "y": [
          "bird",
          "dog",
          "chair",
          "bear",
          "bottle",
          "cat",
          "truck",
          "boat",
          "clock",
          "elephant",
          "airplane",
          "car",
          "bicycle",
          "knife",
          "keyboard",
          "oven"
         ]
        },
        {
         "marker": {
          "color": "rgba(100, 143, 255,0.2)"
         },
         "mode": "lines",
         "showlegend": false,
         "type": "scatter",
         "visible": false,
         "x": [
          0.49377,
          0.49377
         ],
         "y": [
          "bird",
          "oven"
         ]
        },
        {
         "marker": {
          "color": "rgb(120, 94, 240)",
          "opacity": 0.9,
          "size": 8,
          "symbol": "square"
         },
         "mode": "markers",
         "name": "convnext pretrained frozen OOD",
         "showlegend": true,
         "type": "scatter",
         "visible": false,
         "x": [
          0.95167,
          0.9588,
          0.98742,
          1,
          0.97173,
          0.98099,
          0.9902,
          0.97585,
          1,
          0.98837,
          1,
          1,
          1,
          1,
          0.98864,
          1
         ],
         "y": [
          "bird",
          "dog",
          "chair",
          "bear",
          "bottle",
          "cat",
          "truck",
          "boat",
          "clock",
          "elephant",
          "airplane",
          "car",
          "bicycle",
          "knife",
          "keyboard",
          "oven"
         ]
        },
        {
         "marker": {
          "color": "rgba(120, 94, 240,0.2)"
         },
         "mode": "lines",
         "showlegend": false,
         "type": "scatter",
         "visible": false,
         "x": [
          0.96566,
          0.96566
         ],
         "y": [
          "bird",
          "oven"
         ]
        },
        {
         "marker": {
          "color": "rgb(100, 143, 255)",
          "opacity": 0.9,
          "size": 8,
          "symbol": "circle"
         },
         "mode": "markers",
         "name": "vit-b16 pretrained",
         "showlegend": true,
         "type": "scatter",
         "visible": false,
         "x": [
          0.55385,
          0.53122,
          0.54545,
          0.16667,
          0.625,
          0.66667,
          0.30769,
          0.41667,
          0.71429,
          null,
          1,
          0,
          1,
          null,
          0,
          null
         ],
         "y": [
          "bird",
          "dog",
          "chair",
          "bear",
          "bottle",
          "cat",
          "truck",
          "boat",
          "clock",
          "elephant",
          "airplane",
          "car",
          "bicycle",
          "knife",
          "keyboard",
          "oven"
         ]
        },
        {
         "marker": {
          "color": "rgba(100, 143, 255,0.2)"
         },
         "mode": "lines",
         "showlegend": false,
         "type": "scatter",
         "visible": false,
         "x": [
          0.53592,
          0.53592
         ],
         "y": [
          "bird",
          "oven"
         ]
        },
        {
         "marker": {
          "color": "rgb(120, 94, 240)",
          "opacity": 0.9,
          "size": 8,
          "symbol": "square"
         },
         "mode": "markers",
         "name": "vit-b16 pretrained frozen OOD",
         "showlegend": true,
         "type": "scatter",
         "visible": false,
         "x": [
          0.98558,
          0.97021,
          1,
          1,
          0.99298,
          0.98828,
          0.99381,
          1,
          0.9845,
          1,
          1,
          1,
          1,
          1,
          1,
          1
         ],
         "y": [
          "bird",
          "dog",
          "chair",
          "bear",
          "bottle",
          "cat",
          "truck",
          "boat",
          "clock",
          "elephant",
          "airplane",
          "car",
          "bicycle",
          "knife",
          "keyboard",
          "oven"
         ]
        },
        {
         "marker": {
          "color": "rgba(120, 94, 240,0.2)"
         },
         "mode": "lines",
         "showlegend": false,
         "type": "scatter",
         "visible": false,
         "x": [
          0.98249,
          0.98249
         ],
         "y": [
          "bird",
          "oven"
         ]
        },
        {
         "marker": {
          "color": "rgb(100, 143, 255)",
          "opacity": 0.9,
          "size": 8,
          "symbol": "circle"
         },
         "mode": "markers",
         "name": "vit-b32 pretrained",
         "showlegend": true,
         "type": "scatter",
         "visible": false,
         "x": [
          0.45567,
          0.49429,
          0.69231,
          0.69231,
          0.63636,
          0.57143,
          0.66667,
          0.35714,
          0,
          0,
          null,
          0,
          0,
          0.5,
          null,
          null
         ],
         "y": [
          "bird",
          "dog",
          "chair",
          "bear",
          "bottle",
          "cat",
          "truck",
          "boat",
          "clock",
          "elephant",
          "airplane",
          "car",
          "bicycle",
          "knife",
          "keyboard",
          "oven"
         ]
        },
        {
         "marker": {
          "color": "rgba(100, 143, 255,0.2)"
         },
         "mode": "lines",
         "showlegend": false,
         "type": "scatter",
         "visible": false,
         "x": [
          0.48723,
          0.48723
         ],
         "y": [
          "bird",
          "oven"
         ]
        },
        {
         "marker": {
          "color": "rgb(120, 94, 240)",
          "opacity": 0.9,
          "size": 8,
          "symbol": "square"
         },
         "mode": "markers",
         "name": "vit-b32 pretrained frozen OOD",
         "showlegend": true,
         "type": "scatter",
         "visible": false,
         "x": [
          0.97133,
          0.94751,
          1,
          0.98675,
          0.98819,
          0.97727,
          0.98722,
          0.98131,
          0.97248,
          1,
          1,
          1,
          1,
          1,
          1,
          1
         ],
         "y": [
          "bird",
          "dog",
          "chair",
          "bear",
          "bottle",
          "cat",
          "truck",
          "boat",
          "clock",
          "elephant",
          "airplane",
          "car",
          "bicycle",
          "knife",
          "keyboard",
          "oven"
         ]
        },
        {
         "marker": {
          "color": "rgba(120, 94, 240,0.2)"
         },
         "mode": "lines",
         "showlegend": false,
         "type": "scatter",
         "visible": false,
         "x": [
          0.96662,
          0.96662
         ],
         "y": [
          "bird",
          "oven"
         ]
        }
       ],
       "layout": {
        "height": 660,
        "legend": {
         "bgcolor": "rgba(0,0,0,0)",
         "x": 0.03,
         "y": 1
        },
        "template": {
         "data": {
          "bar": [
           {
            "error_x": {
             "color": "#2a3f5f"
            },
            "error_y": {
             "color": "#2a3f5f"
            },
            "marker": {
             "line": {
              "color": "#E5ECF6",
              "width": 0.5
             },
             "pattern": {
              "fillmode": "overlay",
              "size": 10,
              "solidity": 0.2
             }
            },
            "type": "bar"
           }
          ],
          "barpolar": [
           {
            "marker": {
             "line": {
              "color": "#E5ECF6",
              "width": 0.5
             },
             "pattern": {
              "fillmode": "overlay",
              "size": 10,
              "solidity": 0.2
             }
            },
            "type": "barpolar"
           }
          ],
          "carpet": [
           {
            "aaxis": {
             "endlinecolor": "#2a3f5f",
             "gridcolor": "white",
             "linecolor": "white",
             "minorgridcolor": "white",
             "startlinecolor": "#2a3f5f"
            },
            "baxis": {
             "endlinecolor": "#2a3f5f",
             "gridcolor": "white",
             "linecolor": "white",
             "minorgridcolor": "white",
             "startlinecolor": "#2a3f5f"
            },
            "type": "carpet"
           }
          ],
          "choropleth": [
           {
            "colorbar": {
             "outlinewidth": 0,
             "ticks": ""
            },
            "type": "choropleth"
           }
          ],
          "contour": [
           {
            "colorbar": {
             "outlinewidth": 0,
             "ticks": ""
            },
            "colorscale": [
             [
              0,
              "#0d0887"
             ],
             [
              0.1111111111111111,
              "#46039f"
             ],
             [
              0.2222222222222222,
              "#7201a8"
             ],
             [
              0.3333333333333333,
              "#9c179e"
             ],
             [
              0.4444444444444444,
              "#bd3786"
             ],
             [
              0.5555555555555556,
              "#d8576b"
             ],
             [
              0.6666666666666666,
              "#ed7953"
             ],
             [
              0.7777777777777778,
              "#fb9f3a"
             ],
             [
              0.8888888888888888,
              "#fdca26"
             ],
             [
              1,
              "#f0f921"
             ]
            ],
            "type": "contour"
           }
          ],
          "contourcarpet": [
           {
            "colorbar": {
             "outlinewidth": 0,
             "ticks": ""
            },
            "type": "contourcarpet"
           }
          ],
          "heatmap": [
           {
            "colorbar": {
             "outlinewidth": 0,
             "ticks": ""
            },
            "colorscale": [
             [
              0,
              "#0d0887"
             ],
             [
              0.1111111111111111,
              "#46039f"
             ],
             [
              0.2222222222222222,
              "#7201a8"
             ],
             [
              0.3333333333333333,
              "#9c179e"
             ],
             [
              0.4444444444444444,
              "#bd3786"
             ],
             [
              0.5555555555555556,
              "#d8576b"
             ],
             [
              0.6666666666666666,
              "#ed7953"
             ],
             [
              0.7777777777777778,
              "#fb9f3a"
             ],
             [
              0.8888888888888888,
              "#fdca26"
             ],
             [
              1,
              "#f0f921"
             ]
            ],
            "type": "heatmap"
           }
          ],
          "heatmapgl": [
           {
            "colorbar": {
             "outlinewidth": 0,
             "ticks": ""
            },
            "colorscale": [
             [
              0,
              "#0d0887"
             ],
             [
              0.1111111111111111,
              "#46039f"
             ],
             [
              0.2222222222222222,
              "#7201a8"
             ],
             [
              0.3333333333333333,
              "#9c179e"
             ],
             [
              0.4444444444444444,
              "#bd3786"
             ],
             [
              0.5555555555555556,
              "#d8576b"
             ],
             [
              0.6666666666666666,
              "#ed7953"
             ],
             [
              0.7777777777777778,
              "#fb9f3a"
             ],
             [
              0.8888888888888888,
              "#fdca26"
             ],
             [
              1,
              "#f0f921"
             ]
            ],
            "type": "heatmapgl"
           }
          ],
          "histogram": [
           {
            "marker": {
             "pattern": {
              "fillmode": "overlay",
              "size": 10,
              "solidity": 0.2
             }
            },
            "type": "histogram"
           }
          ],
          "histogram2d": [
           {
            "colorbar": {
             "outlinewidth": 0,
             "ticks": ""
            },
            "colorscale": [
             [
              0,
              "#0d0887"
             ],
             [
              0.1111111111111111,
              "#46039f"
             ],
             [
              0.2222222222222222,
              "#7201a8"
             ],
             [
              0.3333333333333333,
              "#9c179e"
             ],
             [
              0.4444444444444444,
              "#bd3786"
             ],
             [
              0.5555555555555556,
              "#d8576b"
             ],
             [
              0.6666666666666666,
              "#ed7953"
             ],
             [
              0.7777777777777778,
              "#fb9f3a"
             ],
             [
              0.8888888888888888,
              "#fdca26"
             ],
             [
              1,
              "#f0f921"
             ]
            ],
            "type": "histogram2d"
           }
          ],
          "histogram2dcontour": [
           {
            "colorbar": {
             "outlinewidth": 0,
             "ticks": ""
            },
            "colorscale": [
             [
              0,
              "#0d0887"
             ],
             [
              0.1111111111111111,
              "#46039f"
             ],
             [
              0.2222222222222222,
              "#7201a8"
             ],
             [
              0.3333333333333333,
              "#9c179e"
             ],
             [
              0.4444444444444444,
              "#bd3786"
             ],
             [
              0.5555555555555556,
              "#d8576b"
             ],
             [
              0.6666666666666666,
              "#ed7953"
             ],
             [
              0.7777777777777778,
              "#fb9f3a"
             ],
             [
              0.8888888888888888,
              "#fdca26"
             ],
             [
              1,
              "#f0f921"
             ]
            ],
            "type": "histogram2dcontour"
           }
          ],
          "mesh3d": [
           {
            "colorbar": {
             "outlinewidth": 0,
             "ticks": ""
            },
            "type": "mesh3d"
           }
          ],
          "parcoords": [
           {
            "line": {
             "colorbar": {
              "outlinewidth": 0,
              "ticks": ""
             }
            },
            "type": "parcoords"
           }
          ],
          "pie": [
           {
            "automargin": true,
            "type": "pie"
           }
          ],
          "scatter": [
           {
            "marker": {
             "colorbar": {
              "outlinewidth": 0,
              "ticks": ""
             }
            },
            "type": "scatter"
           }
          ],
          "scatter3d": [
           {
            "line": {
             "colorbar": {
              "outlinewidth": 0,
              "ticks": ""
             }
            },
            "marker": {
             "colorbar": {
              "outlinewidth": 0,
              "ticks": ""
             }
            },
            "type": "scatter3d"
           }
          ],
          "scattercarpet": [
           {
            "marker": {
             "colorbar": {
              "outlinewidth": 0,
              "ticks": ""
             }
            },
            "type": "scattercarpet"
           }
          ],
          "scattergeo": [
           {
            "marker": {
             "colorbar": {
              "outlinewidth": 0,
              "ticks": ""
             }
            },
            "type": "scattergeo"
           }
          ],
          "scattergl": [
           {
            "marker": {
             "colorbar": {
              "outlinewidth": 0,
              "ticks": ""
             }
            },
            "type": "scattergl"
           }
          ],
          "scattermapbox": [
           {
            "marker": {
             "colorbar": {
              "outlinewidth": 0,
              "ticks": ""
             }
            },
            "type": "scattermapbox"
           }
          ],
          "scatterpolar": [
           {
            "marker": {
             "colorbar": {
              "outlinewidth": 0,
              "ticks": ""
             }
            },
            "type": "scatterpolar"
           }
          ],
          "scatterpolargl": [
           {
            "marker": {
             "colorbar": {
              "outlinewidth": 0,
              "ticks": ""
             }
            },
            "type": "scatterpolargl"
           }
          ],
          "scatterternary": [
           {
            "marker": {
             "colorbar": {
              "outlinewidth": 0,
              "ticks": ""
             }
            },
            "type": "scatterternary"
           }
          ],
          "surface": [
           {
            "colorbar": {
             "outlinewidth": 0,
             "ticks": ""
            },
            "colorscale": [
             [
              0,
              "#0d0887"
             ],
             [
              0.1111111111111111,
              "#46039f"
             ],
             [
              0.2222222222222222,
              "#7201a8"
             ],
             [
              0.3333333333333333,
              "#9c179e"
             ],
             [
              0.4444444444444444,
              "#bd3786"
             ],
             [
              0.5555555555555556,
              "#d8576b"
             ],
             [
              0.6666666666666666,
              "#ed7953"
             ],
             [
              0.7777777777777778,
              "#fb9f3a"
             ],
             [
              0.8888888888888888,
              "#fdca26"
             ],
             [
              1,
              "#f0f921"
             ]
            ],
            "type": "surface"
           }
          ],
          "table": [
           {
            "cells": {
             "fill": {
              "color": "#EBF0F8"
             },
             "line": {
              "color": "white"
             }
            },
            "header": {
             "fill": {
              "color": "#C8D4E3"
             },
             "line": {
              "color": "white"
             }
            },
            "type": "table"
           }
          ]
         },
         "layout": {
          "annotationdefaults": {
           "arrowcolor": "#2a3f5f",
           "arrowhead": 0,
           "arrowwidth": 1
          },
          "autotypenumbers": "strict",
          "coloraxis": {
           "colorbar": {
            "outlinewidth": 0,
            "ticks": ""
           }
          },
          "colorscale": {
           "diverging": [
            [
             0,
             "#8e0152"
            ],
            [
             0.1,
             "#c51b7d"
            ],
            [
             0.2,
             "#de77ae"
            ],
            [
             0.3,
             "#f1b6da"
            ],
            [
             0.4,
             "#fde0ef"
            ],
            [
             0.5,
             "#f7f7f7"
            ],
            [
             0.6,
             "#e6f5d0"
            ],
            [
             0.7,
             "#b8e186"
            ],
            [
             0.8,
             "#7fbc41"
            ],
            [
             0.9,
             "#4d9221"
            ],
            [
             1,
             "#276419"
            ]
           ],
           "sequential": [
            [
             0,
             "#0d0887"
            ],
            [
             0.1111111111111111,
             "#46039f"
            ],
            [
             0.2222222222222222,
             "#7201a8"
            ],
            [
             0.3333333333333333,
             "#9c179e"
            ],
            [
             0.4444444444444444,
             "#bd3786"
            ],
            [
             0.5555555555555556,
             "#d8576b"
            ],
            [
             0.6666666666666666,
             "#ed7953"
            ],
            [
             0.7777777777777778,
             "#fb9f3a"
            ],
            [
             0.8888888888888888,
             "#fdca26"
            ],
            [
             1,
             "#f0f921"
            ]
           ],
           "sequentialminus": [
            [
             0,
             "#0d0887"
            ],
            [
             0.1111111111111111,
             "#46039f"
            ],
            [
             0.2222222222222222,
             "#7201a8"
            ],
            [
             0.3333333333333333,
             "#9c179e"
            ],
            [
             0.4444444444444444,
             "#bd3786"
            ],
            [
             0.5555555555555556,
             "#d8576b"
            ],
            [
             0.6666666666666666,
             "#ed7953"
            ],
            [
             0.7777777777777778,
             "#fb9f3a"
            ],
            [
             0.8888888888888888,
             "#fdca26"
            ],
            [
             1,
             "#f0f921"
            ]
           ]
          },
          "colorway": [
           "#636efa",
           "#EF553B",
           "#00cc96",
           "#ab63fa",
           "#FFA15A",
           "#19d3f3",
           "#FF6692",
           "#B6E880",
           "#FF97FF",
           "#FECB52"
          ],
          "font": {
           "color": "#2a3f5f"
          },
          "geo": {
           "bgcolor": "white",
           "lakecolor": "white",
           "landcolor": "#E5ECF6",
           "showlakes": true,
           "showland": true,
           "subunitcolor": "white"
          },
          "hoverlabel": {
           "align": "left"
          },
          "hovermode": "closest",
          "mapbox": {
           "style": "light"
          },
          "paper_bgcolor": "white",
          "plot_bgcolor": "#E5ECF6",
          "polar": {
           "angularaxis": {
            "gridcolor": "white",
            "linecolor": "white",
            "ticks": ""
           },
           "bgcolor": "#E5ECF6",
           "radialaxis": {
            "gridcolor": "white",
            "linecolor": "white",
            "ticks": ""
           }
          },
          "scene": {
           "xaxis": {
            "backgroundcolor": "#E5ECF6",
            "gridcolor": "white",
            "gridwidth": 2,
            "linecolor": "white",
            "showbackground": true,
            "ticks": "",
            "zerolinecolor": "white"
           },
           "yaxis": {
            "backgroundcolor": "#E5ECF6",
            "gridcolor": "white",
            "gridwidth": 2,
            "linecolor": "white",
            "showbackground": true,
            "ticks": "",
            "zerolinecolor": "white"
           },
           "zaxis": {
            "backgroundcolor": "#E5ECF6",
            "gridcolor": "white",
            "gridwidth": 2,
            "linecolor": "white",
            "showbackground": true,
            "ticks": "",
            "zerolinecolor": "white"
           }
          },
          "shapedefaults": {
           "line": {
            "color": "#2a3f5f"
           }
          },
          "ternary": {
           "aaxis": {
            "gridcolor": "white",
            "linecolor": "white",
            "ticks": ""
           },
           "baxis": {
            "gridcolor": "white",
            "linecolor": "white",
            "ticks": ""
           },
           "bgcolor": "#E5ECF6",
           "caxis": {
            "gridcolor": "white",
            "linecolor": "white",
            "ticks": ""
           }
          },
          "title": {
           "x": 0.05
          },
          "xaxis": {
           "automargin": true,
           "gridcolor": "white",
           "linecolor": "white",
           "ticks": "",
           "title": {
            "standoff": 15
           },
           "zerolinecolor": "white",
           "zerolinewidth": 2
          },
          "yaxis": {
           "automargin": true,
           "gridcolor": "white",
           "linecolor": "white",
           "ticks": "",
           "title": {
            "standoff": 15
           },
           "zerolinecolor": "white",
           "zerolinewidth": 2
          }
         }
        },
        "title": {
         "text": "ResNet Models Shape-Texture Bias",
         "x": 0.57,
         "xanchor": "center",
         "y": 0.93,
         "yanchor": "top"
        },
        "updatemenus": [
         {
          "active": 0,
          "buttons": [
           {
            "args": [
             {
              "visible": [
               true,
               true,
               true,
               true,
               true,
               true,
               true,
               true,
               false,
               false,
               false,
               false,
               false,
               false,
               false,
               false,
               false,
               false,
               false,
               false
              ]
             },
             {
              "title": "ResNet Models Shape-Texture Bias"
             }
            ],
            "label": "ResNet",
            "method": "update"
           },
           {
            "args": [
             {
              "visible": [
               false,
               false,
               false,
               false,
               false,
               false,
               false,
               false,
               true,
               true,
               true,
               true,
               false,
               false,
               false,
               false,
               false,
               false,
               false,
               false
              ]
             },
             {
              "title": "ConvNext Models Shape-Texture Bias"
             }
            ],
            "label": "ConvNext",
            "method": "update"
           },
           {
            "args": [
             {
              "visible": [
               false,
               false,
               false,
               false,
               false,
               false,
               false,
               false,
               false,
               false,
               false,
               false,
               true,
               true,
               true,
               true,
               false,
               false,
               false,
               false
              ]
             },
             {
              "title": "ViT-B16 Models Shape-Texture Bias"
             }
            ],
            "label": "ViT-B16",
            "method": "update"
           },
           {
            "args": [
             {
              "visible": [
               false,
               false,
               false,
               false,
               false,
               false,
               false,
               false,
               false,
               false,
               false,
               false,
               false,
               false,
               false,
               false,
               true,
               true,
               true,
               true
              ]
             },
             {
              "title": "ViT-B32 Models Shape-Texture Bias"
             }
            ],
            "label": "ViT-B32",
            "method": "update"
           }
          ],
          "x": 0,
          "xanchor": "left",
          "y": 1.14,
          "yanchor": "top"
         }
        ],
        "width": 600,
        "xaxis": {
         "dtick": 0.1,
         "tick0": 0,
         "tickmode": "linear",
         "tickvals": [
          0,
          0.1,
          0.2,
          0.30000000000000004,
          0.4,
          0.5,
          0.6000000000000001,
          0.7000000000000001,
          0.8,
          0.9,
          1
         ],
         "title": {
          "text": "Fraction of 'shape' decisions"
         }
        },
        "yaxis": {
         "title": {
          "text": "Shape Classes"
         }
        }
       }
      }
     },
     "metadata": {},
     "output_type": "display_data"
    }
   ],
   "source": [
    "#resnet models\n",
    "models_dfs = [df_resnet_punOOD,df_resnet_puOOD,df_resnet_pfOOD,df_resnet_p]\n",
    "models_avg = [0.98121,0.97624,0.93232,0.53495]\n",
    "\n",
    "#convnext models\n",
    "models_dfs2 = [df_convnext_p,df_convnext_pfOOD]\n",
    "models_avg2 = [0.49377,0.96566]\n",
    "\n",
    "#vitb16 models\n",
    "models_dfs3 = [df_vitb16_p,df_vitb16_pfOOD]\n",
    "models_avg3 = [0.53592,0.98249]\n",
    "\n",
    "#vitb32 models\n",
    "models_dfs4 = [df_vitb32_p,df_vitb32_pfOOD]\n",
    "models_avg4 = [0.48723,0.96662]\n",
    "\n",
    "\n",
    "buttons = []\n",
    "models_names = ['ResNet','ConvNext','ViT-B16','ViT-B32']\n",
    "color_palette = ['rgb(100, 143, 255)','rgb(120, 94, 240)','rgb(220, 38, 127)','rgb(254, 97, 0)']\n",
    "color_palette_line = ['rgba(100, 143, 255,0.2)','rgba(120, 94, 240,0.2)','rgba(220, 38, 127,0.2)','rgba(254, 97, 0,0.2)']\n",
    "symbol_list = ['circle','square','diamond','x']\n",
    "\n",
    "\n",
    "\n",
    "buttons.append(dict(label='ResNet',\n",
    "                    method=\"update\",\n",
    "                    args=[{\"visible\":[True]*8+[False]*12},\n",
    "                          {\"title\":f\"ResNet Models Shape-Texture Bias\"}]))\n",
    "buttons.append(dict(label='ConvNext',\n",
    "                    method=\"update\",\n",
    "                    args=[{\"visible\":[False]*8+[True]*4+[False]*8},\n",
    "                          {\"title\":f\"ConvNext Models Shape-Texture Bias\"}]))\n",
    "buttons.append(dict(label='ViT-B16',\n",
    "                    method=\"update\",\n",
    "                    args=[{\"visible\":[False]*12+[True]*4+[False]*4},\n",
    "                          {\"title\":f\"ViT-B16 Models Shape-Texture Bias\"}]))\n",
    "buttons.append(dict(label='ViT-B32',\n",
    "                    method=\"update\",\n",
    "                    args=[{\"visible\":[False]*16+[True]*4},\n",
    "                          {\"title\":f\"ViT-B32 Models Shape-Texture Bias\"}]))\n",
    "\n",
    "\n",
    "updatemenus = [{'active':0, \n",
    "                \"buttons\":buttons, \n",
    "                \"x\":0,\n",
    "                \"y\":1.14,\n",
    "                \"xanchor\":'left',\n",
    "                \"yanchor\":'top'}]\n",
    "\n",
    "\n",
    "fig = go.Figure(layout=dict(updatemenus=updatemenus))\n",
    "\n",
    "#Resnet Models\n",
    "for i, model_df in enumerate(models_dfs):\n",
    "      #print(model_df)\n",
    "      fig.add_trace(go.Scatter(x=model_df[\"shape_bias\"],y=model_df['classes'],\n",
    "            name= model_df['Models'].unique()[0],\n",
    "            mode=\"markers\",\n",
    "            marker=dict(\n",
    "                  color=color_palette[i],\n",
    "                  symbol = symbol_list[i],\n",
    "                  size=8,\n",
    "                  opacity = 0.9,\n",
    "                  # line=dict(width=0.5,\n",
    "                  #       color='DarkSlateGrey')\n",
    "            ),\n",
    "            visible = True,\n",
    "            showlegend=True))\n",
    "      fig.add_trace(go.Scatter(x=[models_avg[i], models_avg[i]],y=['bird','oven'],\n",
    "            mode=\"lines\",\n",
    "            marker=dict(\n",
    "                  color=color_palette_line[i]\n",
    "            ),\n",
    "            visible = True,\n",
    "            showlegend=False))\n",
    "\n",
    "#Convnext Models\n",
    "for i, model_df in enumerate(models_dfs2):\n",
    "      #print(model_df)\n",
    "      fig.add_trace(go.Scatter(x=model_df[\"shape_bias\"],y=model_df['classes'],\n",
    "            name= model_df['Models'].unique()[0],\n",
    "            mode=\"markers\",\n",
    "            marker=dict(\n",
    "                  color=color_palette[i],\n",
    "                  symbol = symbol_list[i],\n",
    "                  size=8,\n",
    "                  opacity = 0.9,\n",
    "                  # line=dict(width=0.5,\n",
    "                  #       color='DarkSlateGrey')\n",
    "            ),\n",
    "            visible = False,\n",
    "            showlegend=True))\n",
    "      fig.add_trace(go.Scatter(x=[models_avg2[i], models_avg2[i]],y=['bird','oven'],\n",
    "            mode=\"lines\",\n",
    "            marker=dict(\n",
    "                  color=color_palette_line[i]\n",
    "            ),\n",
    "            visible = False,\n",
    "            showlegend=False))\n",
    "\n",
    "#vitb16 Models\n",
    "for i, model_df in enumerate(models_dfs3):\n",
    "      #print(model_df)\n",
    "      fig.add_trace(go.Scatter(x=model_df[\"shape_bias\"],y=model_df['classes'],\n",
    "            name= model_df['Models'].unique()[0],\n",
    "            mode=\"markers\",\n",
    "            marker=dict(\n",
    "                  color=color_palette[i],\n",
    "                  symbol = symbol_list[i],\n",
    "                  size=8,\n",
    "                  opacity = 0.9,\n",
    "                  # line=dict(width=0.5,\n",
    "                  #       color='DarkSlateGrey')\n",
    "            ),\n",
    "            visible = False,\n",
    "            showlegend=True))\n",
    "      fig.add_trace(go.Scatter(x=[models_avg3[i], models_avg3[i]],y=['bird','oven'],\n",
    "            mode=\"lines\",\n",
    "            marker=dict(\n",
    "                  color=color_palette_line[i]\n",
    "            ),\n",
    "            visible = False,\n",
    "            showlegend=False))\n",
    "\n",
    "#vitb32 Models\n",
    "for i, model_df in enumerate(models_dfs4):\n",
    "      #print(model_df)\n",
    "      fig.add_trace(go.Scatter(x=model_df[\"shape_bias\"],y=model_df['classes'],\n",
    "            name= model_df['Models'].unique()[0],\n",
    "            mode=\"markers\",\n",
    "            marker=dict(\n",
    "                  color=color_palette[i],\n",
    "                  symbol = symbol_list[i],\n",
    "                  size=8,\n",
    "                  opacity = 0.9,\n",
    "                  # line=dict(width=0.5,\n",
    "                  #       color='DarkSlateGrey')\n",
    "            ),\n",
    "            visible = False,\n",
    "            showlegend=True))\n",
    "      fig.add_trace(go.Scatter(x=[models_avg4[i], models_avg4[i]],y=['bird','oven'],\n",
    "            mode=\"lines\",\n",
    "            marker=dict(\n",
    "                  color=color_palette_line[i]\n",
    "            ),\n",
    "            visible = False,\n",
    "            showlegend=False))\n",
    "\n",
    "\n",
    "fig.update_layout(\n",
    "    title={\n",
    "        'text': \"ResNet Models Shape-Texture Bias\",\n",
    "        'y':0.93,\n",
    "        'x':0.57,\n",
    "        'xanchor': 'center',\n",
    "        'yanchor': 'top'},\n",
    "    legend={\n",
    "        'x':0.03,\n",
    "        'y':1,\n",
    "        'bgcolor':'rgba(0,0,0,0)'\n",
    "\n",
    "    },\n",
    "    yaxis = dict(\n",
    "          title=\"Shape Classes\"\n",
    "    ),\n",
    "    height = 660,\n",
    "    width = 600,\n",
    "    #grid_domain_x=[0,1]\n",
    "    xaxis = dict(\n",
    "        tickmode = 'linear',\n",
    "        tick0 = 0,\n",
    "        dtick = 0.1,\n",
    "        title = \"Fraction of 'shape' decisions\",\n",
    "      #   tickvals=np.linspace(0,1,11),\n",
    "        #tickformat = '%'\n",
    "    ),\n",
    ")\n",
    "\n",
    "\n",
    "fig.show()\n",
    "fig.write_html(\"./src/visualization/shape-bias.html\")"
   ]
  },
  {
   "cell_type": "code",
   "execution_count": 88,
   "metadata": {
    "pycharm": {
     "name": "#%%\n"
    }
   },
   "outputs": [
    {
     "data": {
      "application/vnd.plotly.v1+json": {
       "config": {
        "plotlyServerURL": "https://plot.ly"
       },
       "data": [
        {
         "hovertemplate": "species=setosa<br>sepal_width=%{x}<br>sepal_length=%{y}<extra></extra>",
         "legendgroup": "setosa",
         "marker": {
          "color": "#636efa",
          "size": 12,
          "symbol": "circle"
         },
         "mode": "markers",
         "name": "setosa",
         "orientation": "v",
         "showlegend": true,
         "type": "scatter",
         "x": [
          3.5,
          3,
          3.2,
          3.1,
          3.6,
          3.9,
          3.4,
          3.4,
          2.9,
          3.1,
          3.7,
          3.4,
          3,
          3,
          4,
          4.4,
          3.9,
          3.5,
          3.8,
          3.8,
          3.4,
          3.7,
          3.6,
          3.3,
          3.4,
          3,
          3.4,
          3.5,
          3.4,
          3.2,
          3.1,
          3.4,
          4.1,
          4.2,
          3.1,
          3.2,
          3.5,
          3.1,
          3,
          3.4,
          3.5,
          2.3,
          3.2,
          3.5,
          3.8,
          3,
          3.8,
          3.2,
          3.7,
          3.3
         ],
         "xaxis": "x",
         "y": [
          5.1,
          4.9,
          4.7,
          4.6,
          5,
          5.4,
          4.6,
          5,
          4.4,
          4.9,
          5.4,
          4.8,
          4.8,
          4.3,
          5.8,
          5.7,
          5.4,
          5.1,
          5.7,
          5.1,
          5.4,
          5.1,
          4.6,
          5.1,
          4.8,
          5,
          5,
          5.2,
          5.2,
          4.7,
          4.8,
          5.4,
          5.2,
          5.5,
          4.9,
          5,
          5.5,
          4.9,
          4.4,
          5.1,
          5,
          4.5,
          4.4,
          5,
          5.1,
          4.8,
          5.1,
          4.6,
          5.3,
          5
         ],
         "yaxis": "y"
        },
        {
         "hovertemplate": "species=versicolor<br>sepal_width=%{x}<br>sepal_length=%{y}<extra></extra>",
         "legendgroup": "versicolor",
         "marker": {
          "color": "#EF553B",
          "size": 12,
          "symbol": "circle"
         },
         "mode": "markers",
         "name": "versicolor",
         "orientation": "v",
         "showlegend": true,
         "type": "scatter",
         "x": [
          3.2,
          3.2,
          3.1,
          2.3,
          2.8,
          2.8,
          3.3,
          2.4,
          2.9,
          2.7,
          2,
          3,
          2.2,
          2.9,
          2.9,
          3.1,
          3,
          2.7,
          2.2,
          2.5,
          3.2,
          2.8,
          2.5,
          2.8,
          2.9,
          3,
          2.8,
          3,
          2.9,
          2.6,
          2.4,
          2.4,
          2.7,
          2.7,
          3,
          3.4,
          3.1,
          2.3,
          3,
          2.5,
          2.6,
          3,
          2.6,
          2.3,
          2.7,
          3,
          2.9,
          2.9,
          2.5,
          2.8
         ],
         "xaxis": "x",
         "y": [
          7,
          6.4,
          6.9,
          5.5,
          6.5,
          5.7,
          6.3,
          4.9,
          6.6,
          5.2,
          5,
          5.9,
          6,
          6.1,
          5.6,
          6.7,
          5.6,
          5.8,
          6.2,
          5.6,
          5.9,
          6.1,
          6.3,
          6.1,
          6.4,
          6.6,
          6.8,
          6.7,
          6,
          5.7,
          5.5,
          5.5,
          5.8,
          6,
          5.4,
          6,
          6.7,
          6.3,
          5.6,
          5.5,
          5.5,
          6.1,
          5.8,
          5,
          5.6,
          5.7,
          5.7,
          6.2,
          5.1,
          5.7
         ],
         "yaxis": "y"
        },
        {
         "hovertemplate": "species=virginica<br>sepal_width=%{x}<br>sepal_length=%{y}<extra></extra>",
         "legendgroup": "virginica",
         "marker": {
          "color": "#00cc96",
          "size": 12,
          "symbol": "circle"
         },
         "mode": "markers",
         "name": "virginica",
         "orientation": "v",
         "showlegend": true,
         "type": "scatter",
         "x": [
          3.3,
          2.7,
          3,
          2.9,
          3,
          3,
          2.5,
          2.9,
          2.5,
          3.6,
          3.2,
          2.7,
          3,
          2.5,
          2.8,
          3.2,
          3,
          3.8,
          2.6,
          2.2,
          3.2,
          2.8,
          2.8,
          2.7,
          3.3,
          3.2,
          2.8,
          3,
          2.8,
          3,
          2.8,
          3.8,
          2.8,
          2.8,
          2.6,
          3,
          3.4,
          3.1,
          3,
          3.1,
          3.1,
          3.1,
          2.7,
          3.2,
          3.3,
          3,
          2.5,
          3,
          3.4,
          3
         ],
         "xaxis": "x",
         "y": [
          6.3,
          5.8,
          7.1,
          6.3,
          6.5,
          7.6,
          4.9,
          7.3,
          6.7,
          7.2,
          6.5,
          6.4,
          6.8,
          5.7,
          5.8,
          6.4,
          6.5,
          7.7,
          7.7,
          6,
          6.9,
          5.6,
          7.7,
          6.3,
          6.7,
          7.2,
          6.2,
          6.1,
          6.4,
          7.2,
          7.4,
          7.9,
          6.4,
          6.3,
          6.1,
          7.7,
          6.3,
          6.4,
          6,
          6.9,
          6.7,
          6.9,
          5.8,
          6.8,
          6.7,
          6.7,
          6.3,
          6.5,
          6.2,
          5.9
         ],
         "yaxis": "y"
        }
       ],
       "layout": {
        "height": 350,
        "legend": {
         "title": {
          "text": "species"
         },
         "tracegroupgap": 0
        },
        "margin": {
         "t": 60
        },
        "template": {
         "data": {
          "bar": [
           {
            "error_x": {
             "color": "#2a3f5f"
            },
            "error_y": {
             "color": "#2a3f5f"
            },
            "marker": {
             "line": {
              "color": "#E5ECF6",
              "width": 0.5
             },
             "pattern": {
              "fillmode": "overlay",
              "size": 10,
              "solidity": 0.2
             }
            },
            "type": "bar"
           }
          ],
          "barpolar": [
           {
            "marker": {
             "line": {
              "color": "#E5ECF6",
              "width": 0.5
             },
             "pattern": {
              "fillmode": "overlay",
              "size": 10,
              "solidity": 0.2
             }
            },
            "type": "barpolar"
           }
          ],
          "carpet": [
           {
            "aaxis": {
             "endlinecolor": "#2a3f5f",
             "gridcolor": "white",
             "linecolor": "white",
             "minorgridcolor": "white",
             "startlinecolor": "#2a3f5f"
            },
            "baxis": {
             "endlinecolor": "#2a3f5f",
             "gridcolor": "white",
             "linecolor": "white",
             "minorgridcolor": "white",
             "startlinecolor": "#2a3f5f"
            },
            "type": "carpet"
           }
          ],
          "choropleth": [
           {
            "colorbar": {
             "outlinewidth": 0,
             "ticks": ""
            },
            "type": "choropleth"
           }
          ],
          "contour": [
           {
            "colorbar": {
             "outlinewidth": 0,
             "ticks": ""
            },
            "colorscale": [
             [
              0,
              "#0d0887"
             ],
             [
              0.1111111111111111,
              "#46039f"
             ],
             [
              0.2222222222222222,
              "#7201a8"
             ],
             [
              0.3333333333333333,
              "#9c179e"
             ],
             [
              0.4444444444444444,
              "#bd3786"
             ],
             [
              0.5555555555555556,
              "#d8576b"
             ],
             [
              0.6666666666666666,
              "#ed7953"
             ],
             [
              0.7777777777777778,
              "#fb9f3a"
             ],
             [
              0.8888888888888888,
              "#fdca26"
             ],
             [
              1,
              "#f0f921"
             ]
            ],
            "type": "contour"
           }
          ],
          "contourcarpet": [
           {
            "colorbar": {
             "outlinewidth": 0,
             "ticks": ""
            },
            "type": "contourcarpet"
           }
          ],
          "heatmap": [
           {
            "colorbar": {
             "outlinewidth": 0,
             "ticks": ""
            },
            "colorscale": [
             [
              0,
              "#0d0887"
             ],
             [
              0.1111111111111111,
              "#46039f"
             ],
             [
              0.2222222222222222,
              "#7201a8"
             ],
             [
              0.3333333333333333,
              "#9c179e"
             ],
             [
              0.4444444444444444,
              "#bd3786"
             ],
             [
              0.5555555555555556,
              "#d8576b"
             ],
             [
              0.6666666666666666,
              "#ed7953"
             ],
             [
              0.7777777777777778,
              "#fb9f3a"
             ],
             [
              0.8888888888888888,
              "#fdca26"
             ],
             [
              1,
              "#f0f921"
             ]
            ],
            "type": "heatmap"
           }
          ],
          "heatmapgl": [
           {
            "colorbar": {
             "outlinewidth": 0,
             "ticks": ""
            },
            "colorscale": [
             [
              0,
              "#0d0887"
             ],
             [
              0.1111111111111111,
              "#46039f"
             ],
             [
              0.2222222222222222,
              "#7201a8"
             ],
             [
              0.3333333333333333,
              "#9c179e"
             ],
             [
              0.4444444444444444,
              "#bd3786"
             ],
             [
              0.5555555555555556,
              "#d8576b"
             ],
             [
              0.6666666666666666,
              "#ed7953"
             ],
             [
              0.7777777777777778,
              "#fb9f3a"
             ],
             [
              0.8888888888888888,
              "#fdca26"
             ],
             [
              1,
              "#f0f921"
             ]
            ],
            "type": "heatmapgl"
           }
          ],
          "histogram": [
           {
            "marker": {
             "pattern": {
              "fillmode": "overlay",
              "size": 10,
              "solidity": 0.2
             }
            },
            "type": "histogram"
           }
          ],
          "histogram2d": [
           {
            "colorbar": {
             "outlinewidth": 0,
             "ticks": ""
            },
            "colorscale": [
             [
              0,
              "#0d0887"
             ],
             [
              0.1111111111111111,
              "#46039f"
             ],
             [
              0.2222222222222222,
              "#7201a8"
             ],
             [
              0.3333333333333333,
              "#9c179e"
             ],
             [
              0.4444444444444444,
              "#bd3786"
             ],
             [
              0.5555555555555556,
              "#d8576b"
             ],
             [
              0.6666666666666666,
              "#ed7953"
             ],
             [
              0.7777777777777778,
              "#fb9f3a"
             ],
             [
              0.8888888888888888,
              "#fdca26"
             ],
             [
              1,
              "#f0f921"
             ]
            ],
            "type": "histogram2d"
           }
          ],
          "histogram2dcontour": [
           {
            "colorbar": {
             "outlinewidth": 0,
             "ticks": ""
            },
            "colorscale": [
             [
              0,
              "#0d0887"
             ],
             [
              0.1111111111111111,
              "#46039f"
             ],
             [
              0.2222222222222222,
              "#7201a8"
             ],
             [
              0.3333333333333333,
              "#9c179e"
             ],
             [
              0.4444444444444444,
              "#bd3786"
             ],
             [
              0.5555555555555556,
              "#d8576b"
             ],
             [
              0.6666666666666666,
              "#ed7953"
             ],
             [
              0.7777777777777778,
              "#fb9f3a"
             ],
             [
              0.8888888888888888,
              "#fdca26"
             ],
             [
              1,
              "#f0f921"
             ]
            ],
            "type": "histogram2dcontour"
           }
          ],
          "mesh3d": [
           {
            "colorbar": {
             "outlinewidth": 0,
             "ticks": ""
            },
            "type": "mesh3d"
           }
          ],
          "parcoords": [
           {
            "line": {
             "colorbar": {
              "outlinewidth": 0,
              "ticks": ""
             }
            },
            "type": "parcoords"
           }
          ],
          "pie": [
           {
            "automargin": true,
            "type": "pie"
           }
          ],
          "scatter": [
           {
            "marker": {
             "colorbar": {
              "outlinewidth": 0,
              "ticks": ""
             }
            },
            "type": "scatter"
           }
          ],
          "scatter3d": [
           {
            "line": {
             "colorbar": {
              "outlinewidth": 0,
              "ticks": ""
             }
            },
            "marker": {
             "colorbar": {
              "outlinewidth": 0,
              "ticks": ""
             }
            },
            "type": "scatter3d"
           }
          ],
          "scattercarpet": [
           {
            "marker": {
             "colorbar": {
              "outlinewidth": 0,
              "ticks": ""
             }
            },
            "type": "scattercarpet"
           }
          ],
          "scattergeo": [
           {
            "marker": {
             "colorbar": {
              "outlinewidth": 0,
              "ticks": ""
             }
            },
            "type": "scattergeo"
           }
          ],
          "scattergl": [
           {
            "marker": {
             "colorbar": {
              "outlinewidth": 0,
              "ticks": ""
             }
            },
            "type": "scattergl"
           }
          ],
          "scattermapbox": [
           {
            "marker": {
             "colorbar": {
              "outlinewidth": 0,
              "ticks": ""
             }
            },
            "type": "scattermapbox"
           }
          ],
          "scatterpolar": [
           {
            "marker": {
             "colorbar": {
              "outlinewidth": 0,
              "ticks": ""
             }
            },
            "type": "scatterpolar"
           }
          ],
          "scatterpolargl": [
           {
            "marker": {
             "colorbar": {
              "outlinewidth": 0,
              "ticks": ""
             }
            },
            "type": "scatterpolargl"
           }
          ],
          "scatterternary": [
           {
            "marker": {
             "colorbar": {
              "outlinewidth": 0,
              "ticks": ""
             }
            },
            "type": "scatterternary"
           }
          ],
          "surface": [
           {
            "colorbar": {
             "outlinewidth": 0,
             "ticks": ""
            },
            "colorscale": [
             [
              0,
              "#0d0887"
             ],
             [
              0.1111111111111111,
              "#46039f"
             ],
             [
              0.2222222222222222,
              "#7201a8"
             ],
             [
              0.3333333333333333,
              "#9c179e"
             ],
             [
              0.4444444444444444,
              "#bd3786"
             ],
             [
              0.5555555555555556,
              "#d8576b"
             ],
             [
              0.6666666666666666,
              "#ed7953"
             ],
             [
              0.7777777777777778,
              "#fb9f3a"
             ],
             [
              0.8888888888888888,
              "#fdca26"
             ],
             [
              1,
              "#f0f921"
             ]
            ],
            "type": "surface"
           }
          ],
          "table": [
           {
            "cells": {
             "fill": {
              "color": "#EBF0F8"
             },
             "line": {
              "color": "white"
             }
            },
            "header": {
             "fill": {
              "color": "#C8D4E3"
             },
             "line": {
              "color": "white"
             }
            },
            "type": "table"
           }
          ]
         },
         "layout": {
          "annotationdefaults": {
           "arrowcolor": "#2a3f5f",
           "arrowhead": 0,
           "arrowwidth": 1
          },
          "autotypenumbers": "strict",
          "coloraxis": {
           "colorbar": {
            "outlinewidth": 0,
            "ticks": ""
           }
          },
          "colorscale": {
           "diverging": [
            [
             0,
             "#8e0152"
            ],
            [
             0.1,
             "#c51b7d"
            ],
            [
             0.2,
             "#de77ae"
            ],
            [
             0.3,
             "#f1b6da"
            ],
            [
             0.4,
             "#fde0ef"
            ],
            [
             0.5,
             "#f7f7f7"
            ],
            [
             0.6,
             "#e6f5d0"
            ],
            [
             0.7,
             "#b8e186"
            ],
            [
             0.8,
             "#7fbc41"
            ],
            [
             0.9,
             "#4d9221"
            ],
            [
             1,
             "#276419"
            ]
           ],
           "sequential": [
            [
             0,
             "#0d0887"
            ],
            [
             0.1111111111111111,
             "#46039f"
            ],
            [
             0.2222222222222222,
             "#7201a8"
            ],
            [
             0.3333333333333333,
             "#9c179e"
            ],
            [
             0.4444444444444444,
             "#bd3786"
            ],
            [
             0.5555555555555556,
             "#d8576b"
            ],
            [
             0.6666666666666666,
             "#ed7953"
            ],
            [
             0.7777777777777778,
             "#fb9f3a"
            ],
            [
             0.8888888888888888,
             "#fdca26"
            ],
            [
             1,
             "#f0f921"
            ]
           ],
           "sequentialminus": [
            [
             0,
             "#0d0887"
            ],
            [
             0.1111111111111111,
             "#46039f"
            ],
            [
             0.2222222222222222,
             "#7201a8"
            ],
            [
             0.3333333333333333,
             "#9c179e"
            ],
            [
             0.4444444444444444,
             "#bd3786"
            ],
            [
             0.5555555555555556,
             "#d8576b"
            ],
            [
             0.6666666666666666,
             "#ed7953"
            ],
            [
             0.7777777777777778,
             "#fb9f3a"
            ],
            [
             0.8888888888888888,
             "#fdca26"
            ],
            [
             1,
             "#f0f921"
            ]
           ]
          },
          "colorway": [
           "#636efa",
           "#EF553B",
           "#00cc96",
           "#ab63fa",
           "#FFA15A",
           "#19d3f3",
           "#FF6692",
           "#B6E880",
           "#FF97FF",
           "#FECB52"
          ],
          "font": {
           "color": "#2a3f5f"
          },
          "geo": {
           "bgcolor": "white",
           "lakecolor": "white",
           "landcolor": "#E5ECF6",
           "showlakes": true,
           "showland": true,
           "subunitcolor": "white"
          },
          "hoverlabel": {
           "align": "left"
          },
          "hovermode": "closest",
          "mapbox": {
           "style": "light"
          },
          "paper_bgcolor": "white",
          "plot_bgcolor": "#E5ECF6",
          "polar": {
           "angularaxis": {
            "gridcolor": "white",
            "linecolor": "white",
            "ticks": ""
           },
           "bgcolor": "#E5ECF6",
           "radialaxis": {
            "gridcolor": "white",
            "linecolor": "white",
            "ticks": ""
           }
          },
          "scene": {
           "xaxis": {
            "backgroundcolor": "#E5ECF6",
            "gridcolor": "white",
            "gridwidth": 2,
            "linecolor": "white",
            "showbackground": true,
            "ticks": "",
            "zerolinecolor": "white"
           },
           "yaxis": {
            "backgroundcolor": "#E5ECF6",
            "gridcolor": "white",
            "gridwidth": 2,
            "linecolor": "white",
            "showbackground": true,
            "ticks": "",
            "zerolinecolor": "white"
           },
           "zaxis": {
            "backgroundcolor": "#E5ECF6",
            "gridcolor": "white",
            "gridwidth": 2,
            "linecolor": "white",
            "showbackground": true,
            "ticks": "",
            "zerolinecolor": "white"
           }
          },
          "shapedefaults": {
           "line": {
            "color": "#2a3f5f"
           }
          },
          "ternary": {
           "aaxis": {
            "gridcolor": "white",
            "linecolor": "white",
            "ticks": ""
           },
           "baxis": {
            "gridcolor": "white",
            "linecolor": "white",
            "ticks": ""
           },
           "bgcolor": "#E5ECF6",
           "caxis": {
            "gridcolor": "white",
            "linecolor": "white",
            "ticks": ""
           }
          },
          "title": {
           "x": 0.05
          },
          "xaxis": {
           "automargin": true,
           "gridcolor": "white",
           "linecolor": "white",
           "ticks": "",
           "title": {
            "standoff": 15
           },
           "zerolinecolor": "white",
           "zerolinewidth": 2
          },
          "yaxis": {
           "automargin": true,
           "gridcolor": "white",
           "linecolor": "white",
           "ticks": "",
           "title": {
            "standoff": 15
           },
           "zerolinecolor": "white",
           "zerolinewidth": 2
          }
         }
        },
        "xaxis": {
         "anchor": "y",
         "domain": [
          0,
          1
         ],
         "title": {
          "text": "sepal_width"
         }
        },
        "yaxis": {
         "anchor": "x",
         "domain": [
          0,
          1
         ],
         "title": {
          "text": "sepal_length"
         }
        }
       }
      }
     },
     "metadata": {},
     "output_type": "display_data"
    }
   ],
   "source": [
    "df = px.data.iris() # replace with your own data source\n",
    "fig = px.scatter(\n",
    "    df, x=\"sepal_width\", y=\"sepal_length\", \n",
    "    color=\"species\", height=350)\n",
    "fig = go.Figure(fig)\n",
    "fig.update_traces(\n",
    "    marker_size=12,\n",
    "    selector=dict(mode='markers')\n",
    ")"
   ]
  }
 ],
 "metadata": {
  "interpreter": {
   "hash": "36c06fe5db6deb0f7de59b9d087fa3b3d1fe1dc5c56b82208f25e328c29da444"
  },
  "kernelspec": {
   "display_name": "Python 3.9.10 ('ift6759')",
   "language": "python",
   "name": "python3"
  },
  "language_info": {
   "codemirror_mode": {
    "name": "ipython",
    "version": 3
   },
   "file_extension": ".py",
   "mimetype": "text/x-python",
   "name": "python",
   "nbconvert_exporter": "python",
   "pygments_lexer": "ipython3",
   "version": "3.9.10"
  },
  "orig_nbformat": 4
 },
 "nbformat": 4,
 "nbformat_minor": 2
}